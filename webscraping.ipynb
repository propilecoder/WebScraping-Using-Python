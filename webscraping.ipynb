{
 "cells": [
  {
   "cell_type": "markdown",
   "id": "9bf8ec61",
   "metadata": {},
   "source": [
    "# Web Scraping"
   ]
  },
  {
   "cell_type": "markdown",
   "id": "588c8c92",
   "metadata": {},
   "source": [
    "Embark on a Python web scraping project exploring 'http://quotes.toscrape.comr to extract quotes, authors, and tags. Utilize BeautifulSoup and requests to navigate the website's HTML structure and uncover insights from the collected data."
   ]
  },
  {
   "cell_type": "markdown",
   "id": "687d9dd2",
   "metadata": {},
   "source": [
    "#"
   ]
  },
  {
   "cell_type": "markdown",
   "id": "a20124f7",
   "metadata": {},
   "source": [
    "#### Importing necessary libraries"
   ]
  },
  {
   "cell_type": "code",
   "execution_count": 1,
   "id": "7bae541f",
   "metadata": {},
   "outputs": [],
   "source": [
    "import requests\n",
    "from bs4 import BeautifulSoup"
   ]
  },
  {
   "cell_type": "markdown",
   "id": "5eda392c",
   "metadata": {},
   "source": [
    "#### Setting the URL for the web scraping\n"
   ]
  },
  {
   "cell_type": "code",
   "execution_count": 2,
   "id": "e68204ae",
   "metadata": {},
   "outputs": [],
   "source": [
    "url = \"http://quotes.toscrape.com\""
   ]
  },
  {
   "cell_type": "markdown",
   "id": "07cfebe7",
   "metadata": {},
   "source": [
    "#### Making a request to the website"
   ]
  },
  {
   "cell_type": "code",
   "execution_count": 3,
   "id": "c2565e32",
   "metadata": {},
   "outputs": [
    {
     "data": {
      "text/plain": [
       "<Response [200]>"
      ]
     },
     "execution_count": 3,
     "metadata": {},
     "output_type": "execute_result"
    }
   ],
   "source": [
    "response = requests.get(url)\n",
    "response"
   ]
  },
  {
   "cell_type": "markdown",
   "id": "bc414eba",
   "metadata": {},
   "source": [
    "#### Parsing the HTML content of the page"
   ]
  },
  {
   "cell_type": "code",
   "execution_count": 4,
   "id": "e19764c4",
   "metadata": {},
   "outputs": [],
   "source": [
    "soup = BeautifulSoup(response.content, \"html.parser\")"
   ]
  },
  {
   "cell_type": "markdown",
   "id": "08d2e502",
   "metadata": {},
   "source": [
    "#### Extracting quote elements using BeautifulSoup"
   ]
  },
  {
   "cell_type": "code",
   "execution_count": 7,
   "id": "13f66212",
   "metadata": {},
   "outputs": [
    {
     "data": {
      "text/plain": [
       "[<span class=\"text\" itemprop=\"text\">“The world as we have created it is a process of our thinking. It cannot be changed without changing our thinking.”</span>,\n",
       " <span class=\"text\" itemprop=\"text\">“It is our choices, Harry, that show what we truly are, far more than our abilities.”</span>,\n",
       " <span class=\"text\" itemprop=\"text\">“There are only two ways to live your life. One is as though nothing is a miracle. The other is as though everything is a miracle.”</span>,\n",
       " <span class=\"text\" itemprop=\"text\">“The person, be it gentleman or lady, who has not pleasure in a good novel, must be intolerably stupid.”</span>,\n",
       " <span class=\"text\" itemprop=\"text\">“Imperfection is beauty, madness is genius and it's better to be absolutely ridiculous than absolutely boring.”</span>,\n",
       " <span class=\"text\" itemprop=\"text\">“Try not to become a man of success. Rather become a man of value.”</span>,\n",
       " <span class=\"text\" itemprop=\"text\">“It is better to be hated for what you are than to be loved for what you are not.”</span>,\n",
       " <span class=\"text\" itemprop=\"text\">“I have not failed. I've just found 10,000 ways that won't work.”</span>,\n",
       " <span class=\"text\" itemprop=\"text\">“A woman is like a tea bag; you never know how strong it is until it's in hot water.”</span>,\n",
       " <span class=\"text\" itemprop=\"text\">“A day without sunshine is like, you know, night.”</span>]"
      ]
     },
     "execution_count": 7,
     "metadata": {},
     "output_type": "execute_result"
    }
   ],
   "source": [
    "quote_elements = soup.find_all(\"span\", class_=\"text\")\n",
    "quote_elements"
   ]
  },
  {
   "cell_type": "markdown",
   "id": "55ff0f98",
   "metadata": {},
   "source": [
    "#### Displaying Original Quotes\n"
   ]
  },
  {
   "cell_type": "code",
   "execution_count": 12,
   "id": "7b273a77",
   "metadata": {},
   "outputs": [
    {
     "name": "stdout",
     "output_type": "stream",
     "text": [
      " --- Original Quotes --- \n",
      "\n",
      "\n",
      "“The world as we have created it is a process of our thinking. It cannot be changed without changing our thinking.”\n",
      "\n",
      "\n",
      "“It is our choices, Harry, that show what we truly are, far more than our abilities.”\n",
      "\n",
      "\n",
      "“There are only two ways to live your life. One is as though nothing is a miracle. The other is as though everything is a miracle.”\n",
      "\n",
      "\n",
      "“The person, be it gentleman or lady, who has not pleasure in a good novel, must be intolerably stupid.”\n",
      "\n",
      "\n",
      "“Imperfection is beauty, madness is genius and it's better to be absolutely ridiculous than absolutely boring.”\n",
      "\n",
      "\n",
      "“Try not to become a man of success. Rather become a man of value.”\n",
      "\n",
      "\n",
      "“It is better to be hated for what you are than to be loved for what you are not.”\n",
      "\n",
      "\n",
      "“I have not failed. I've just found 10,000 ways that won't work.”\n",
      "\n",
      "\n",
      "“A woman is like a tea bag; you never know how strong it is until it's in hot water.”\n",
      "\n",
      "\n",
      "“A day without sunshine is like, you know, night.”\n"
     ]
    }
   ],
   "source": [
    "print(\" --- Original Quotes --- \")\n",
    "for quote in quote_elements:\n",
    "    print(\"\\n\")\n",
    "    print(quote.text)"
   ]
  },
  {
   "cell_type": "markdown",
   "id": "e593d17a",
   "metadata": {},
   "source": [
    "#### Converting Quotes to Uppercase"
   ]
  },
  {
   "cell_type": "code",
   "execution_count": 14,
   "id": "67e882aa",
   "metadata": {},
   "outputs": [
    {
     "name": "stdout",
     "output_type": "stream",
     "text": [
      "-- Uppercase Quotes --\n",
      "\n",
      "\n",
      "“THE WORLD AS WE HAVE CREATED IT IS A PROCESS OF OUR THINKING. IT CANNOT BE CHANGED WITHOUT CHANGING OUR THINKING.”\n",
      "\n",
      "\n",
      "“IT IS OUR CHOICES, HARRY, THAT SHOW WHAT WE TRULY ARE, FAR MORE THAN OUR ABILITIES.”\n",
      "\n",
      "\n",
      "“THERE ARE ONLY TWO WAYS TO LIVE YOUR LIFE. ONE IS AS THOUGH NOTHING IS A MIRACLE. THE OTHER IS AS THOUGH EVERYTHING IS A MIRACLE.”\n",
      "\n",
      "\n",
      "“THE PERSON, BE IT GENTLEMAN OR LADY, WHO HAS NOT PLEASURE IN A GOOD NOVEL, MUST BE INTOLERABLY STUPID.”\n",
      "\n",
      "\n",
      "“IMPERFECTION IS BEAUTY, MADNESS IS GENIUS AND IT'S BETTER TO BE ABSOLUTELY RIDICULOUS THAN ABSOLUTELY BORING.”\n",
      "\n",
      "\n",
      "“TRY NOT TO BECOME A MAN OF SUCCESS. RATHER BECOME A MAN OF VALUE.”\n",
      "\n",
      "\n",
      "“IT IS BETTER TO BE HATED FOR WHAT YOU ARE THAN TO BE LOVED FOR WHAT YOU ARE NOT.”\n",
      "\n",
      "\n",
      "“I HAVE NOT FAILED. I'VE JUST FOUND 10,000 WAYS THAT WON'T WORK.”\n",
      "\n",
      "\n",
      "“A WOMAN IS LIKE A TEA BAG; YOU NEVER KNOW HOW STRONG IT IS UNTIL IT'S IN HOT WATER.”\n",
      "\n",
      "\n",
      "“A DAY WITHOUT SUNSHINE IS LIKE, YOU KNOW, NIGHT.”\n"
     ]
    }
   ],
   "source": [
    "print(\"-- Uppercase Quotes --\")\n",
    "for quote in quote_elements:\n",
    "    print(\"\\n\")\n",
    "    print(quote.text.upper())"
   ]
  },
  {
   "cell_type": "markdown",
   "id": "8dce0a8e",
   "metadata": {},
   "source": [
    "#### Counting the Number of Quotes"
   ]
  },
  {
   "cell_type": "code",
   "execution_count": 15,
   "id": "5c861f93",
   "metadata": {},
   "outputs": [
    {
     "name": "stdout",
     "output_type": "stream",
     "text": [
      "Total number of Quotes: 10\n"
     ]
    }
   ],
   "source": [
    "#[Assuming quote_elements is already defined and contains the quotes as elements]\n",
    "\n",
    "sentence_count = 0\n",
    "word_counts = []\n",
    "\n",
    "for sentence in quote_elements:\n",
    "    words = sentence.text.split()  # Splitting each sentence into words\n",
    "    word_count = len(words)  # Counting the words in each quote\n",
    "    word_counts.append(word_count)  # Adding the word count to the list\n",
    "    sentence_count += 1\n",
    "\n",
    "print(f\"Total number of Quotes: {sentence_count}\")\n"
   ]
  },
  {
   "cell_type": "markdown",
   "id": "035f6afe",
   "metadata": {},
   "source": [
    "#### Displaying Word Count for Each Quote"
   ]
  },
  {
   "cell_type": "code",
   "execution_count": 20,
   "id": "52d181c0",
   "metadata": {},
   "outputs": [
    {
     "name": "stdout",
     "output_type": "stream",
     "text": [
      "Word count in quote number 1: 21\n",
      "Word count in quote number 2: 16\n",
      "Word count in quote number 3: 26\n",
      "Word count in quote number 4: 19\n",
      "Word count in quote number 5: 16\n",
      "Word count in quote number 6: 14\n",
      "Word count in quote number 7: 19\n",
      "Word count in quote number 8: 12\n",
      "Word count in quote number 9: 19\n",
      "Word count in quote number 10: 9\n",
      "\n",
      "\n",
      "The longest quote is:\n",
      "“There are only two ways to live your life. One is as though nothing is a miracle. The other is as though everything is a miracle.”\n",
      "\n",
      "\n",
      "Character count: 131\n"
     ]
    }
   ],
   "source": [
    "for index, count in enumerate(word_counts, 1):\n",
    "    print(f\"Word count in quote number {index}: {count}\")\n",
    "\n",
    "# Identifying the Longest Quote\n",
    "longest_quote = \"\"\n",
    "for quote in quote_elements:\n",
    "    text = quote.text\n",
    "    if len(text) > len(longest_quote):\n",
    "        longest_quote = text\n",
    "        \n",
    "print(\"\\n\")\n",
    "print(\"The longest quote is:\")\n",
    "print(longest_quote)\n",
    "print(\"\\n\")\n",
    "print(f\"Character count: {len(longest_quote)}\")"
   ]
  },
  {
   "cell_type": "markdown",
   "id": "2470f516",
   "metadata": {},
   "source": [
    "#### Counting Word Frequency Across All Quotes"
   ]
  },
  {
   "cell_type": "code",
   "execution_count": 23,
   "id": "df0a6863",
   "metadata": {},
   "outputs": [],
   "source": [
    "word_frequency = {}\n",
    "for quote in quote_elements:\n",
    "    words = quote.text.split()\n",
    "    for word in words:\n",
    "        word_frequency[word] = word_frequency.get(word, 0) + 1\n",
    "        # Sorting the word frequency dictionary by frequency in descending order\n",
    "sorted_word_frequency = dict(sorted(word_frequency.items(), key=lambda x: x[1], reverse=True))"
   ]
  },
  {
   "cell_type": "markdown",
   "id": "c880df41",
   "metadata": {},
   "source": [
    "#### Displaying Word Frequency"
   ]
  },
  {
   "cell_type": "code",
   "execution_count": 24,
   "id": "028acc89",
   "metadata": {},
   "outputs": [
    {
     "name": "stdout",
     "output_type": "stream",
     "text": [
      "is: 12\n",
      "a: 7\n",
      "be: 6\n",
      "to: 5\n",
      "our: 4\n",
      "you: 4\n",
      "as: 3\n",
      "it: 3\n",
      "of: 3\n",
      "what: 3\n",
      "than: 3\n",
      "are: 3\n",
      "not: 3\n",
      "“The: 2\n",
      "we: 2\n",
      "have: 2\n",
      "without: 2\n",
      "“It: 2\n",
      "that: 2\n",
      "ways: 2\n",
      "though: 2\n",
      "in: 2\n",
      "it's: 2\n",
      "better: 2\n",
      "absolutely: 2\n",
      "become: 2\n",
      "man: 2\n",
      "for: 2\n",
      "“A: 2\n",
      "world: 1\n",
      "created: 1\n",
      "process: 1\n",
      "thinking.: 1\n",
      "It: 1\n",
      "cannot: 1\n",
      "changed: 1\n",
      "changing: 1\n",
      "thinking.”: 1\n",
      "choices,: 1\n",
      "Harry,: 1\n",
      "show: 1\n",
      "truly: 1\n",
      "are,: 1\n",
      "far: 1\n",
      "more: 1\n",
      "abilities.”: 1\n",
      "“There: 1\n",
      "only: 1\n",
      "two: 1\n",
      "live: 1\n",
      "your: 1\n",
      "life.: 1\n",
      "One: 1\n",
      "nothing: 1\n",
      "miracle.: 1\n",
      "The: 1\n",
      "other: 1\n",
      "everything: 1\n",
      "miracle.”: 1\n",
      "person,: 1\n",
      "gentleman: 1\n",
      "or: 1\n",
      "lady,: 1\n",
      "who: 1\n",
      "has: 1\n",
      "pleasure: 1\n",
      "good: 1\n",
      "novel,: 1\n",
      "must: 1\n",
      "intolerably: 1\n",
      "stupid.”: 1\n",
      "“Imperfection: 1\n",
      "beauty,: 1\n",
      "madness: 1\n",
      "genius: 1\n",
      "and: 1\n",
      "ridiculous: 1\n",
      "boring.”: 1\n",
      "“Try: 1\n",
      "success.: 1\n",
      "Rather: 1\n",
      "value.”: 1\n",
      "hated: 1\n",
      "loved: 1\n",
      "not.”: 1\n",
      "“I: 1\n",
      "failed.: 1\n",
      "I've: 1\n",
      "just: 1\n",
      "found: 1\n",
      "10,000: 1\n",
      "won't: 1\n",
      "work.”: 1\n",
      "woman: 1\n",
      "like: 1\n",
      "tea: 1\n",
      "bag;: 1\n",
      "never: 1\n",
      "know: 1\n",
      "how: 1\n",
      "strong: 1\n",
      "until: 1\n",
      "hot: 1\n",
      "water.”: 1\n",
      "day: 1\n",
      "sunshine: 1\n",
      "like,: 1\n",
      "know,: 1\n",
      "night.”: 1\n"
     ]
    }
   ],
   "source": [
    "for word, frequency in sorted_word_frequency.items():\n",
    "    print(f\"{word}: {frequency}\")"
   ]
  },
  {
   "cell_type": "markdown",
   "id": "4474bcdc",
   "metadata": {},
   "source": [
    "#### Identifying Unique Words Across All Quotes"
   ]
  },
  {
   "cell_type": "code",
   "execution_count": 32,
   "id": "0e77bfa2",
   "metadata": {},
   "outputs": [
    {
     "name": "stdout",
     "output_type": "stream",
     "text": [
      "Unique words in quotes:\n",
      " {'have', 'it', '“Try', 'not.”', 'your', 'lady,', '“A', '“It', '“There', 'know,', 'genius', 'pleasure', 'strong', 'be', 'that', 'know', 'we', 'of', 'like', 'are', 'changed', 'success.', 'two', 'water.”', 'process', 'and', 'loved', 'in', 'cannot', 'gentleman', 'sunshine', 'thinking.', 'man', 'you', 'is', 'madness', 'world', 'miracle.”', 'good', 'life.', 'better', 'ways', 'more', 'than', 'must', 'who', 'has', 'value.”', 'Rather', 'for', 'ridiculous', 'far', 'are,', 'day', 'or', '“I', 'It', \"it's\", \"won't\", 'miracle.', 'hated', 'though', 'absolutely', 'our', 'like,', 'novel,', 'work.”', 'night.”', 'The', 'other', 'found', 'only', 'just', '“The', 'tea', 'until', 'hot', 'live', 'person,', 'thinking.”', 'Harry,', 'intolerably', 'never', 'as', '10,000', 'boring.”', 'become', 'abilities.”', 'bag;', 'not', 'woman', 'beauty,', \"I've\", 'changing', 'created', 'everything', '“Imperfection', 'show', 'what', 'failed.', 'choices,', 'nothing', 'stupid.”', 'truly', 'to', 'One', 'how', 'a', 'without'}\n"
     ]
    }
   ],
   "source": [
    "unique_words = set()\n",
    "for sentence in quote_elements:\n",
    "    words = sentence.text.split()\n",
    "    unique_words.update(words)\n",
    "\n",
    "print(\"Unique words in quotes:\\n\", unique_words)"
   ]
  },
  {
   "cell_type": "markdown",
   "id": "8f73ec37",
   "metadata": {},
   "source": [
    "#### Calculating Average Word Length in Quotes"
   ]
  },
  {
   "cell_type": "code",
   "execution_count": 27,
   "id": "fc2bc8dd",
   "metadata": {},
   "outputs": [
    {
     "name": "stdout",
     "output_type": "stream",
     "text": [
      "Average word length in quotes: 5.233918128654971\n"
     ]
    }
   ],
   "source": [
    "total_words = sum(word_counts)\n",
    "average_word_length = sum(len(sentence.text) for sentence in quote_elements) / total_words\n",
    "print(\"Average word length in quotes:\", average_word_length)"
   ]
  },
  {
   "cell_type": "code",
   "execution_count": null,
   "id": "3f159bc5",
   "metadata": {},
   "outputs": [],
   "source": []
  }
 ],
 "metadata": {
  "kernelspec": {
   "display_name": "Python 3 (ipykernel)",
   "language": "python",
   "name": "python3"
  },
  "language_info": {
   "codemirror_mode": {
    "name": "ipython",
    "version": 3
   },
   "file_extension": ".py",
   "mimetype": "text/x-python",
   "name": "python",
   "nbconvert_exporter": "python",
   "pygments_lexer": "ipython3",
   "version": "3.11.5"
  },
  "varInspector": {
   "cols": {
    "lenName": 16,
    "lenType": 16,
    "lenVar": 40
   },
   "kernels_config": {
    "python": {
     "delete_cmd_postfix": "",
     "delete_cmd_prefix": "del ",
     "library": "var_list.py",
     "varRefreshCmd": "print(var_dic_list())"
    },
    "r": {
     "delete_cmd_postfix": ") ",
     "delete_cmd_prefix": "rm(",
     "library": "var_list.r",
     "varRefreshCmd": "cat(var_dic_list()) "
    }
   },
   "types_to_exclude": [
    "module",
    "function",
    "builtin_function_or_method",
    "instance",
    "_Feature"
   ],
   "window_display": false
  }
 },
 "nbformat": 4,
 "nbformat_minor": 5
}
